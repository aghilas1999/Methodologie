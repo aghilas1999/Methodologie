{
 "cells": [
  {
   "cell_type": "markdown",
   "id": "4065379e",
   "metadata": {},
   "source": [
    "# SMAIL AGHILAS"
   ]
  },
  {
   "cell_type": "markdown",
   "id": "58dd60d9",
   "metadata": {},
   "source": [
    "# MLOps Exercise: Medical Image Classification with Chest X-Ray Images\n",
    "\n",
    "## Introduction\n",
    "\n",
    "In this exercise, you'll gain practical experience with MLOps (Machine Learning Operations) by working on a real-world problem: classifying chest X-ray images to diagnose pneumonia. You'll go through various stages, from data cleaning to deployment, learning how to manage an end-to-end machine learning pipeline.\n",
    "\n",
    "### Prerequisites\n",
    "\n",
    "- Basic understanding of Python\n",
    "- Familiarity with machine learning concepts\n",
    "- Experience with Jupyter Notebooks\n",
    "\n",
    "### Tools and Libraries\n",
    "\n",
    "- Python\n",
    "- NumPy\n",
    "- OpenCV\n",
    "- TensorFlow/Keras\n",
    "- scikit-learn\n",
    "- Flask\n",
    "- Matplotlib\n",
    "- imbalanced-learn\n",
    "\n",
    "These libraries should cover most requirements for this exercise, including data manipulation (NumPy, pandas), visualization (Matplotlib), machine learning (scikit-learn, TensorFlow), image processing (OpenCV), and class imbalance treatment (imbalanced-learn).\n",
    "\n",
    "### Table of Contents\n",
    "\n",
    "1. [Data Loading and Cleaning](#Data-Loading-and-Cleaning)\n",
    "2. [Exploratory Data Analysis (EDA)](#Exploratory-Data-Analysis-(EDA))\n",
    "3. [Class Imbalance](#Class-Imbalance)\n",
    "4. [Model Building](#Model-Building)\n",
    "5. [Data Augmentation](#Data-Augmentation)\n",
    "6. [Model Evaluation](#Model-Evaluation)\n",
    "7. [Model Deployment (Bonus)](#Model-Deployment-(Bonus))\n"
   ]
  },
  {
   "cell_type": "markdown",
   "id": "9cf1798b",
   "metadata": {},
   "source": [
    "## Environment Setup\n",
    "\n",
    "Before we begin, let's set up the environment. We'll install the necessary Python packages for this exercise.\n",
    "\n",
    "```bash\n",
    "pip install numpy pandas opencv-python matplotlib scikit-learn tensorflow flask\n",
    "```\n",
    "\n",
    "You can also create a `requirements.txt` file with the above packages and install them using `pip install -r requirements.txt`.\n",
    "Be aware that you should download ipykernel and export your env to the jupyter notebook.\n",
    "```bash\n",
    "python -m ipykernel install --user --name=my_new_env\n",
    "```"
   ]
  },
  {
   "cell_type": "markdown",
   "id": "fc44e435",
   "metadata": {},
   "source": [
    "## Data Loading and Cleaning\n",
    "\n",
    "### Objective\n",
    "\n",
    "Load the dataset and clean it by removing corrupted images.\n",
    "\n",
    "### Guidance\n",
    "\n",
    "1. Download the Chest X-Ray Images (Pneumonia) dataset and place it in a directory accessible by this notebook. From https://ametice.univ-amu.fr\n",
    "2. Unzip the dataset and explore its directory structure.\n",
    "3. Load the images and labels for training.\n",
    "4. Write a function to scan for and remove any corrupted or invalid images.\n",
    "\n",
    "### Exercise\n",
    "\n",
    "Now, load the dataset use the zipfile library and clean it by removing corrupted images. Write your code in the cell below.\n",
    "\n",
    "```python\n",
    "import zipfile\n",
    "\n",
    "zip_file_path = 'path/to/your/zip/file.zip'\n",
    "extract_path = 'path/to/extract/folder'\n",
    "\n",
    "with zipfile.ZipFile(zip_file_path, 'r') as zip_ref:\n",
    "    zip_ref.extractall(extract_path)\n",
    "```\n",
    "\n",
    "After extracting, your dataset should have the following folder structure:\n",
    "\n",
    "```\n",
    "/\n",
    "|-- test/\n",
    "|   |-- NORMAL/\n",
    "|   |-- PNEUMONIA/\n",
    "|-- train/\n",
    "|   |-- NORMAL/\n",
    "|   |-- PNEUMONIA/\n",
    "|-- val/\n",
    "    |-- NORMAL/\n",
    "    |-- PNEUMONIA/\n",
    "```\n",
    "\n",
    "You can point `train_path` and `test_path` to the `train` and `test` folders inside this extracted directory"
   ]
  },
  {
   "cell_type": "code",
   "execution_count": 1,
   "id": "1750bf33",
   "metadata": {},
   "outputs": [
    {
     "ename": "FileNotFoundError",
     "evalue": "[Errno 2] No such file or directory: 'data/raw/Dataset.zip'",
     "output_type": "error",
     "traceback": [
      "\u001b[1;31m---------------------------------------------------------------------------\u001b[0m",
      "\u001b[1;31mFileNotFoundError\u001b[0m                         Traceback (most recent call last)",
      "\u001b[1;32m~\\AppData\\Local\\Temp\\ipykernel_16368\\4271949647.py\u001b[0m in \u001b[0;36m<module>\u001b[1;34m\u001b[0m\n\u001b[0;32m      4\u001b[0m \u001b[0mextract_path\u001b[0m \u001b[1;33m=\u001b[0m \u001b[1;34m'data/raw/Dataset'\u001b[0m\u001b[1;33m\u001b[0m\u001b[1;33m\u001b[0m\u001b[0m\n\u001b[0;32m      5\u001b[0m \u001b[1;33m\u001b[0m\u001b[0m\n\u001b[1;32m----> 6\u001b[1;33m \u001b[1;32mwith\u001b[0m \u001b[0mzipfile\u001b[0m\u001b[1;33m.\u001b[0m\u001b[0mZipFile\u001b[0m\u001b[1;33m(\u001b[0m\u001b[0mzip_file_path\u001b[0m\u001b[1;33m,\u001b[0m \u001b[1;34m'r'\u001b[0m\u001b[1;33m)\u001b[0m \u001b[1;32mas\u001b[0m \u001b[0mzip_ref\u001b[0m\u001b[1;33m:\u001b[0m\u001b[1;33m\u001b[0m\u001b[1;33m\u001b[0m\u001b[0m\n\u001b[0m\u001b[0;32m      7\u001b[0m     \u001b[0mzip_ref\u001b[0m\u001b[1;33m.\u001b[0m\u001b[0mextractall\u001b[0m\u001b[1;33m(\u001b[0m\u001b[0mextract_path\u001b[0m\u001b[1;33m)\u001b[0m\u001b[1;33m\u001b[0m\u001b[1;33m\u001b[0m\u001b[0m\n",
      "\u001b[1;32m~\\anaconda3\\lib\\zipfile.py\u001b[0m in \u001b[0;36m__init__\u001b[1;34m(self, file, mode, compression, allowZip64, compresslevel, strict_timestamps)\u001b[0m\n\u001b[0;32m   1246\u001b[0m             \u001b[1;32mwhile\u001b[0m \u001b[1;32mTrue\u001b[0m\u001b[1;33m:\u001b[0m\u001b[1;33m\u001b[0m\u001b[1;33m\u001b[0m\u001b[0m\n\u001b[0;32m   1247\u001b[0m                 \u001b[1;32mtry\u001b[0m\u001b[1;33m:\u001b[0m\u001b[1;33m\u001b[0m\u001b[1;33m\u001b[0m\u001b[0m\n\u001b[1;32m-> 1248\u001b[1;33m                     \u001b[0mself\u001b[0m\u001b[1;33m.\u001b[0m\u001b[0mfp\u001b[0m \u001b[1;33m=\u001b[0m \u001b[0mio\u001b[0m\u001b[1;33m.\u001b[0m\u001b[0mopen\u001b[0m\u001b[1;33m(\u001b[0m\u001b[0mfile\u001b[0m\u001b[1;33m,\u001b[0m \u001b[0mfilemode\u001b[0m\u001b[1;33m)\u001b[0m\u001b[1;33m\u001b[0m\u001b[1;33m\u001b[0m\u001b[0m\n\u001b[0m\u001b[0;32m   1249\u001b[0m                 \u001b[1;32mexcept\u001b[0m \u001b[0mOSError\u001b[0m\u001b[1;33m:\u001b[0m\u001b[1;33m\u001b[0m\u001b[1;33m\u001b[0m\u001b[0m\n\u001b[0;32m   1250\u001b[0m                     \u001b[1;32mif\u001b[0m \u001b[0mfilemode\u001b[0m \u001b[1;32min\u001b[0m \u001b[0mmodeDict\u001b[0m\u001b[1;33m:\u001b[0m\u001b[1;33m\u001b[0m\u001b[1;33m\u001b[0m\u001b[0m\n",
      "\u001b[1;31mFileNotFoundError\u001b[0m: [Errno 2] No such file or directory: 'data/raw/Dataset.zip'"
     ]
    }
   ],
   "source": [
    "import zipfile\n",
    "\n",
    "zip_file_path = 'data/raw/Dataset.zip'\n",
    "extract_path = 'data/raw/Dataset'\n",
    "\n",
    "with zipfile.ZipFile(zip_file_path, 'r') as zip_ref:\n",
    "    zip_ref.extractall(extract_path)"
   ]
  },
  {
   "cell_type": "code",
   "execution_count": 4,
   "id": "569f917c",
   "metadata": {},
   "outputs": [],
   "source": [
    "import os\n",
    "from PIL import Image\n",
    "\n",
    "def remove(folder_path):\n",
    "    for subfolder in os.listdir(folder_path):\n",
    "        path = os.path.join(folder_path, subfolder)\n",
    "        if os.path.isdir(path):\n",
    "            for im_file in os.listdir(path):\n",
    "                im_path = os.path.join(path, im_file)\n",
    "                try:\n",
    "                    # Essayer d'ouvrir le fichier image\n",
    "                    img = Image.open(im_path)\n",
    "                    img.verify()  \n",
    "                except (IOError, SyntaxError) :\n",
    "                    print(f\"Suppression de {im_path}\")\n",
    "                    os.remove(im_path)\n",
    "\n",
    "train_folder = 'data/raw/Dataset/chest_xray/chest_xray/train'\n",
    "test_folder = 'data/raw/Dataset/chest_xray/chest_xray/test'\n",
    "\n"
   ]
  },
  {
   "cell_type": "markdown",
   "id": "b85f8981",
   "metadata": {},
   "source": [
    "## Exploratory Data Analysis (EDA)\n",
    "\n",
    "### Objective\n",
    "\n",
    "Understand the dataset's basic statistics and visualize the data.\n",
    "\n",
    "### Guidance\n",
    "\n",
    "1. Use matplotlib to visualize some sample images from each class.\n",
    "2. Investigate the distribution of classes (Pneumonia/Normal).\n",
    "\n",
    "### Exercise\n",
    "\n",
    "Perform exploratory data analysis on the dataset. Write your code in the cell below.\n"
   ]
  },
  {
   "cell_type": "code",
   "execution_count": 2,
   "id": "ecfe6b43",
   "metadata": {},
   "outputs": [],
   "source": [
    "import os\n",
    "\n",
    "dataset_folder = 'data/raw/Dataset'\n",
    "for root, dirs, files in os.walk(dataset_folder):\n",
    "    print(f'Dossier : {root}')\n"
   ]
  },
  {
   "cell_type": "code",
   "execution_count": 3,
   "id": "c4dbb6fa",
   "metadata": {},
   "outputs": [
    {
     "ename": "FileNotFoundError",
     "evalue": "[WinError 3] Le chemin d’accès spécifié est introuvable: 'data/raw/Dataset/chest_xray/chest_xray/train'",
     "output_type": "error",
     "traceback": [
      "\u001b[1;31m---------------------------------------------------------------------------\u001b[0m",
      "\u001b[1;31mFileNotFoundError\u001b[0m                         Traceback (most recent call last)",
      "\u001b[1;32mc:\\Users\\aghil\\OneDrive\\Bureau\\TP_Methodologie\\TP1\\notebooks\\MLOps_Exercise.ipynb Cellule 9\u001b[0m line \u001b[0;36m3\n\u001b[0;32m     <a href='vscode-notebook-cell:/c%3A/Users/aghil/OneDrive/Bureau/TP_Methodologie/TP1/notebooks/MLOps_Exercise.ipynb#X11sZmlsZQ%3D%3D?line=29'>30</a>\u001b[0m \u001b[39m# Utilisez le chemin relatif à partir du répertoire de travail actuel\u001b[39;00m\n\u001b[0;32m     <a href='vscode-notebook-cell:/c%3A/Users/aghil/OneDrive/Bureau/TP_Methodologie/TP1/notebooks/MLOps_Exercise.ipynb#X11sZmlsZQ%3D%3D?line=30'>31</a>\u001b[0m train_folder \u001b[39m=\u001b[39m \u001b[39m'\u001b[39m\u001b[39mdata/raw/Dataset/chest_xray/chest_xray/train\u001b[39m\u001b[39m'\u001b[39m\n\u001b[1;32m---> <a href='vscode-notebook-cell:/c%3A/Users/aghil/OneDrive/Bureau/TP_Methodologie/TP1/notebooks/MLOps_Exercise.ipynb#X11sZmlsZQ%3D%3D?line=31'>32</a>\u001b[0m display_random_images(train_folder)\n",
      "\u001b[1;32mc:\\Users\\aghil\\OneDrive\\Bureau\\TP_Methodologie\\TP1\\notebooks\\MLOps_Exercise.ipynb Cellule 9\u001b[0m line \u001b[0;36m7\n\u001b[0;32m      <a href='vscode-notebook-cell:/c%3A/Users/aghil/OneDrive/Bureau/TP_Methodologie/TP1/notebooks/MLOps_Exercise.ipynb#X11sZmlsZQ%3D%3D?line=5'>6</a>\u001b[0m \u001b[39mdef\u001b[39;00m \u001b[39mdisplay_random_images\u001b[39m(train_folder, num_images\u001b[39m=\u001b[39m\u001b[39m5\u001b[39m):\n\u001b[1;32m----> <a href='vscode-notebook-cell:/c%3A/Users/aghil/OneDrive/Bureau/TP_Methodologie/TP1/notebooks/MLOps_Exercise.ipynb#X11sZmlsZQ%3D%3D?line=6'>7</a>\u001b[0m     classes \u001b[39m=\u001b[39m os\u001b[39m.\u001b[39;49mlistdir(train_folder)\n\u001b[0;32m      <a href='vscode-notebook-cell:/c%3A/Users/aghil/OneDrive/Bureau/TP_Methodologie/TP1/notebooks/MLOps_Exercise.ipynb#X11sZmlsZQ%3D%3D?line=7'>8</a>\u001b[0m     num_classes \u001b[39m=\u001b[39m \u001b[39mlen\u001b[39m(classes)\n\u001b[0;32m     <a href='vscode-notebook-cell:/c%3A/Users/aghil/OneDrive/Bureau/TP_Methodologie/TP1/notebooks/MLOps_Exercise.ipynb#X11sZmlsZQ%3D%3D?line=9'>10</a>\u001b[0m     fig, axes \u001b[39m=\u001b[39m plt\u001b[39m.\u001b[39msubplots(num_classes, num_images, figsize\u001b[39m=\u001b[39m(\u001b[39m15\u001b[39m, \u001b[39m5\u001b[39m\u001b[39m*\u001b[39mnum_classes))\n",
      "\u001b[1;31mFileNotFoundError\u001b[0m: [WinError 3] Le chemin d’accès spécifié est introuvable: 'data/raw/Dataset/chest_xray/chest_xray/train'"
     ]
    }
   ],
   "source": [
    "import os\n",
    "import random\n",
    "import matplotlib.pyplot as plt\n",
    "from PIL import Image\n",
    "\n",
    "def display_random_images(train_folder, num_images=5):\n",
    "    classes = os.listdir(train_folder)\n",
    "    num_classes = len(classes)\n",
    "\n",
    "    fig, axes = plt.subplots(num_classes, num_images, figsize=(15, 5*num_classes))\n",
    "    \n",
    "    for i, class_name in enumerate(classes):\n",
    "        class_folder = os.path.join(train_folder, class_name)\n",
    "        image_files = os.listdir(class_folder)\n",
    "        random_images = random.sample(image_files, num_images)\n",
    "        \n",
    "        for j, image_file in enumerate(random_images):\n",
    "            image_path = os.path.join(class_folder, image_file)\n",
    "            image = Image.open(image_path)\n",
    "            \n",
    "            if num_classes == 1:\n",
    "                axes[j].imshow(image)\n",
    "                axes[j].set_title(f'{class_name}')\n",
    "            else:\n",
    "                axes[i, j].imshow(image)\n",
    "                axes[i, j].set_title(f'{class_name}')\n",
    "    \n",
    "    plt.show()\n",
    "\n",
    "# Utilisez le chemin relatif à partir du répertoire de travail actuel\n",
    "train_folder = 'data/raw/Dataset/chest_xray/chest_xray/train'\n",
    "display_random_images(train_folder)\n"
   ]
  },
  {
   "cell_type": "code",
   "execution_count": 5,
   "id": "c8645adf",
   "metadata": {
    "scrolled": false
   },
   "outputs": [
    {
     "name": "stdout",
     "output_type": "stream",
     "text": [
      "Le nombre d images dans la classe \"NORMAL\" dans le TEST est : 234\n",
      "Le nombre d images dans la classe \"PNEUMONIA\" dans le TEST est : 390\n"
     ]
    },
    {
     "data": {
      "image/png": "[encoded data removed]",
      "text/plain": [
       "<Figure size 640x480 with 1 Axes>"
      ]
     },
     "metadata": {},
     "output_type": "display_data"
    }
   ],
   "source": [
    "import os\n",
    "import matplotlib.pyplot as plt\n",
    "\n",
    "def plot_class_distribution(test_folder):\n",
    "    test_c = os.listdir(test_folder)\n",
    "\n",
    "    # Initialisez les compteurs pour chaque classe pour le test\n",
    "    test = {'NORMAL': 0, 'PNEUMONIA': 0}\n",
    "\n",
    "    # Calculer le nombre d'images pour chaque classe donnée et l'afficher pour savoir si c'est NORMAL ou PNEUMONIA\n",
    "    for classN in test_c:\n",
    "        class_f = os.path.join(test_folder, classN)\n",
    "        image_f = os.listdir(class_f)\n",
    "\n",
    "        if classN == 'NORMAL':\n",
    "            test['NORMAL'] += len(image_f)\n",
    "        elif classN == 'PNEUMONIA':\n",
    "            test['PNEUMONIA'] += len(image_f)\n",
    "\n",
    "        print(f'Le nombre d images dans la classe \"{classN}\" dans le TEST est : {len(image_f)}')\n",
    "\n",
    "    # Afficher la distribution des classes dans le répertoire de test\n",
    "    plt.bar(test.keys(), test.values())\n",
    "    plt.title('La distribution dans la classe TEST')\n",
    "    plt.show()\n",
    "\n",
    "test_folder = 'Dataset/chest_xray/test'\n",
    "plot_class_distribution(test_folder)\n"
   ]
  },
  {
   "cell_type": "markdown",
   "id": "7292266c",
   "metadata": {},
   "source": [
    "## Class Imbalance\n",
    "\n",
    "### Objective\n",
    "\n",
    "Understand how class imbalance affects model performance and learn ways to mitigate it.\n",
    "\n",
    "### Guidance\n",
    "\n",
    "1. Train a baseline model without accounting for class imbalance.\n",
    "2. Evaluate its performance using metrics like accuracy, precision, recall, and F1-score.\n",
    "3. Experiment with techniques like class weighting or oversampling methods like SMOTE to balance the classes.\n",
    "\n",
    "### Exercise\n",
    "\n",
    "Address the class imbalance and evaluate the impact on the model. Write your code in the cell below.\n"
   ]
  },
  {
   "cell_type": "code",
   "execution_count": 15,
   "id": "0753462d",
   "metadata": {},
   "outputs": [],
   "source": [
    "import glob\n",
    "import pandas as pd\n",
    "import numpy as np\n",
    "import cv2\n"
   ]
  },
  {
   "cell_type": "code",
   "execution_count": 16,
   "id": "63bc6907",
   "metadata": {},
   "outputs": [],
   "source": [
    "main_path = \"Dataset/chest_xray\"\n",
    "train_path = os.path.join(main_path,\"train\")\n",
    "test_path=os.path.join(main_path,\"test\")\n",
    "val_path=os.path.join(main_path,\"val\")\n",
    "\n",
    "train_normal = glob.glob(train_path+\"/NORMAL/*.jpeg\")\n",
    "train_pneumonia = glob.glob(train_path+\"/PNEUMONIA/*.jpeg\")\n",
    "\n",
    "test_normal = glob.glob(test_path+\"/NORMAL/*.jpeg\")\n",
    "test_pneumonia = glob.glob(test_path+\"/PNEUMONIA/*.jpeg\")\n",
    "\n",
    "val_normal=glob.glob(val_path+\"/NORMAL/*.jpeg\")\n",
    "val_pneumonia=glob.glob(val_path+\"/PNEUMONIA/*.jpeg\")"
   ]
  },
  {
   "cell_type": "code",
   "execution_count": 17,
   "id": "c3c8330c",
   "metadata": {},
   "outputs": [],
   "source": [
    "train_list = [x for x in train_normal]\n",
    "train_list.extend([x for x in train_pneumonia])\n",
    "\n",
    "df_train = pd.DataFrame(np.concatenate([['Normal']*len(train_normal) , ['Pneumonia']*len(train_pneumonia)]), columns = ['class'])\n",
    "df_train['image'] = [x for x in train_list]\n",
    "\n",
    "test_list = [x for x in test_normal]\n",
    "test_list.extend([x for x in test_pneumonia])\n",
    "\n",
    "df_test = pd.DataFrame(np.concatenate([['Normal']*len(test_normal) , ['Pneumonia']*len(test_pneumonia)]), columns = ['class'])\n",
    "df_test['image'] = [x for x in test_list]\n",
    "\n",
    "val_list=[x for x in val_normal]\n",
    "val_list.extend([x for x in val_pneumonia])\n",
    "\n",
    "df_val=pd.DataFrame(np.concatenate([['Normal']*len(val_normal) , ['Pneumonia']*len(val_pneumonia)]), columns = ['class'])\n",
    "df_val['image'] = [x for x in val_list]"
   ]
  },
  {
   "cell_type": "code",
   "execution_count": 18,
   "id": "33c50f2c",
   "metadata": {},
   "outputs": [],
   "source": [
    "import PIL\n",
    "from sklearn.model_selection import train_test_split\n",
    "from sklearn import svm\n",
    "from sklearn.model_selection import GridSearchCV\n",
    "import tensorflow as tf\n",
    "from tensorflow.keras import regularizers\n",
    "from tensorflow.keras.callbacks import EarlyStopping\n",
    "from tensorflow.keras.models import Sequential\n",
    "from tensorflow.keras.layers import (BatchNormalization, Conv2D, MaxPooling2D, Activation, Flatten, Dropout, Dense)\n",
    "from tensorflow.keras import backend as K"
   ]
  },
  {
   "cell_type": "code",
   "execution_count": 19,
   "id": "29d3e78f",
   "metadata": {},
   "outputs": [],
   "source": [
    "from sklearn import preprocessing\n",
    "import numpy as np\n",
    "def preprocess_image(image_path, target_size=(224, 224)):\n",
    "    image = cv2.imread(image_path)\n",
    "    image = cv2.resize(image, target_size)\n",
    "    image = image / 255.0  \n",
    "    return image\n",
    "\n",
    "# Prétraitement des données d'entraînement, de test et de validation\n",
    "X_train = np.array([preprocess_image(img_path) for img_path in df_train['image']])\n",
    "X_test = np.array([preprocess_image(img_path) for img_path in df_test['image']])\n",
    "X_val = np.array([preprocess_image(img_path) for img_path in df_val['image']])\n",
    "\n",
    "y_train = df_train['class'].values\n",
    "y_test = df_test['class'].values\n",
    "y_val = df_val['class'].values"
   ]
  },
  {
   "cell_type": "code",
   "execution_count": 20,
   "id": "8d7822e9",
   "metadata": {},
   "outputs": [
    {
     "name": "stdout",
     "output_type": "stream",
     "text": [
      "['Normal' 'Normal' 'Normal' 'Normal' 'Normal']\n",
      "['Normal' 'Normal' 'Normal' 'Normal' 'Normal']\n",
      "['Normal' 'Normal' 'Normal' 'Normal' 'Normal']\n"
     ]
    }
   ],
   "source": [
    "print(y_train[:5])\n",
    "print(y_test[:5])\n",
    "print(y_val[:5])\n"
   ]
  },
  {
   "cell_type": "code",
   "execution_count": 21,
   "id": "c7703df5",
   "metadata": {},
   "outputs": [
    {
     "name": "stdout",
     "output_type": "stream",
     "text": [
      "Accuracy: 0.75\n",
      "Classification Report:\n",
      "              precision    recall  f1-score   support\n",
      "\n",
      "      Normal       0.95      0.35      0.51       234\n",
      "   Pneumonia       0.72      0.99      0.83       390\n",
      "\n",
      "    accuracy                           0.75       624\n",
      "   macro avg       0.84      0.67      0.67       624\n",
      "weighted avg       0.81      0.75      0.71       624\n",
      "\n"
     ]
    }
   ],
   "source": [
    "from sklearn.metrics import accuracy_score, classification_report\n",
    "\n",
    "from sklearn.svm import SVC\n",
    "\n",
    "svm_model = SVC(kernel='linear', C=1.0, random_state=42)\n",
    "svm_model.fit(X_train.reshape(X_train.shape[0], -1), y_train)\n",
    "y_pred = svm_model.predict(X_test.reshape(X_test.shape[0], -1))\n",
    "\n",
    "\n",
    "accuracy = accuracy_score(y_test, y_pred)\n",
    "report = classification_report(y_test, y_pred)\n",
    "\n",
    "print(f'Accuracy: {accuracy}')\n",
    "print(f'Classification Report:\\n{report}')"
   ]
  },
  {
   "cell_type": "markdown",
   "id": "1ce00207",
   "metadata": {},
   "source": [
    "## Model Building\n",
    "\n",
    "### Objective\n",
    "\n",
    "Build and train a deep learning model for image classification.\n",
    "\n",
    "### Guidance\n",
    "\n",
    "1. Use a Convolutional Neural Network (CNN) for this task.\n",
    "2. Experiment with different architectures and hyperparameters.\n",
    "\n",
    "### Exercise\n",
    "\n",
    "Build and train your model. Write your code in the cell below.\n"
   ]
  },
  {
   "cell_type": "code",
   "execution_count": 22,
   "id": "7a8ba1ff",
   "metadata": {},
   "outputs": [],
   "source": [
    "from sklearn.preprocessing import LabelEncoder\n",
    "\n",
    "# Créez un objet LabelEncoder\n",
    "label_encoder = LabelEncoder()\n",
    "\n",
    "# Encodez les étiquettes d'entraînement, de test et de validation en format numérique\n",
    "y1_train = label_encoder.fit_transform(y_train)\n",
    "y1_test = label_encoder.transform(y_test)\n",
    "y1_val = label_encoder.transform(y_val)"
   ]
  },
  {
   "cell_type": "code",
   "execution_count": 24,
   "id": "67db6008",
   "metadata": {},
   "outputs": [
    {
     "name": "stdout",
     "output_type": "stream",
     "text": [
      "Model: \"sequential\"\n",
      "_________________________________________________________________\n",
      " Layer (type)                Output Shape              Param #   \n",
      "=================================================================\n",
      " conv2d (Conv2D)             (None, 222, 222, 32)      896       \n",
      "                                                                 \n",
      " max_pooling2d (MaxPooling2  (None, 111, 111, 32)      0         \n",
      " D)                                                              \n",
      "                                                                 \n",
      " conv2d_1 (Conv2D)           (None, 109, 109, 64)      18496     \n",
      "                                                                 \n",
      " max_pooling2d_1 (MaxPoolin  (None, 54, 54, 64)        0         \n",
      " g2D)                                                            \n",
      "                                                                 \n",
      " flatten (Flatten)           (None, 186624)            0         \n",
      "                                                                 \n",
      " dense (Dense)               (None, 128)               23888000  \n",
      "                                                                 \n",
      " dense_1 (Dense)             (None, 1)                 129       \n",
      "                                                                 \n",
      "=================================================================\n",
      "Total params: 23907521 (91.20 MB)\n",
      "Trainable params: 23907521 (91.20 MB)\n",
      "Non-trainable params: 0 (0.00 Byte)\n",
      "_________________________________________________________________\n"
     ]
    }
   ],
   "source": [
    "import tensorflow as tf\n",
    "import tensorflow.keras as keras\n",
    "\n",
    "from tensorflow.keras import layers, models\n",
    "\n",
    "# Création du modèle CNN\n",
    "model = keras.Sequential([\n",
    "    layers.Conv2D(32, (3, 3), activation='relu', input_shape=(224, 224, 3)),\n",
    "    layers.MaxPooling2D((2, 2)),\n",
    "    layers.Conv2D(64, (3, 3), activation='relu'),\n",
    "    layers.MaxPooling2D((2, 2)),\n",
    "    layers.Flatten(),\n",
    "    layers.Dense(128, activation='relu'),\n",
    "    layers.Dense(1, activation='sigmoid')  \n",
    "])\n",
    "# Compilation du modèle\n",
    "model.compile(optimizer='adam',\n",
    "              loss='binary_crossentropy',\n",
    "              metrics=['accuracy'])\n",
    "\n",
    "# Résumé du modèle\n",
    "model.summary()\n"
   ]
  },
  {
   "cell_type": "code",
   "execution_count": 25,
   "id": "b39fd43f",
   "metadata": {},
   "outputs": [
    {
     "name": "stdout",
     "output_type": "stream",
     "text": [
      "Epoch 1/5\n",
      "163/163 [==============================] - 121s 733ms/step - loss: 0.3980 - accuracy: 0.8675 - val_loss: 0.4411 - val_accuracy: 0.7500\n",
      "Epoch 2/5\n",
      "163/163 [==============================] - 117s 719ms/step - loss: 0.1000 - accuracy: 0.9626 - val_loss: 0.1473 - val_accuracy: 0.9375\n",
      "Epoch 3/5\n",
      "163/163 [==============================] - 117s 715ms/step - loss: 0.0671 - accuracy: 0.9758 - val_loss: 0.0917 - val_accuracy: 0.9375\n",
      "Epoch 4/5\n",
      "163/163 [==============================] - 119s 728ms/step - loss: 0.0575 - accuracy: 0.9797 - val_loss: 0.1368 - val_accuracy: 0.9375\n",
      "Epoch 5/5\n",
      "163/163 [==============================] - 119s 727ms/step - loss: 0.0533 - accuracy: 0.9801 - val_loss: 0.6004 - val_accuracy: 0.8125\n",
      "20/20 [==============================] - 2s 107ms/step - loss: 1.4227 - accuracy: 0.6987\n",
      "Accuracy on test data: 0.6987179517745972\n"
     ]
    }
   ],
   "source": [
    "\n",
    "# Entraînement du modèle\n",
    "history = model.fit(X_train, y1_train, epochs=5, validation_data=(X_val, y1_val))\n",
    "\n",
    "# Évaluation du modèle sur les données de test\n",
    "test_loss, test_acc = model.evaluate(X_test, y1_test)\n",
    "print(f'Accuracy on test data: {test_acc}')"
   ]
  },
  {
   "cell_type": "code",
   "execution_count": 26,
   "id": "ce56b790",
   "metadata": {},
   "outputs": [
    {
     "name": "stdout",
     "output_type": "stream",
     "text": [
      "Accuracy on test data: 0.6987179517745972\n",
      "loss on test data: 1.422726035118103\n"
     ]
    }
   ],
   "source": [
    "print(f'Accuracy on test data: {test_acc}')\n",
    "print(f'loss on test data: {test_loss}')"
   ]
  },
  {
   "cell_type": "markdown",
   "id": "85e4ed39",
   "metadata": {},
   "source": [
    "## Data Augmentation\n",
    "\n",
    "### Objective\n",
    "\n",
    "Improve your model's performance by using data augmentation techniques.\n",
    "\n",
    "### Guidance\n",
    "\n",
    "1. Apply data augmentation techniques like rotation, flipping, and zooming to generate more training data.\n",
    "2. Retrain your model using the augmented dataset.\n",
    "\n",
    "### Exercise\n",
    "\n",
    "Apply data augmentation techniques and evaluate the impact on the model. Write your code in the cell below.\n"
   ]
  },
  {
   "cell_type": "code",
   "execution_count": null,
   "id": "a45d44c0",
   "metadata": {},
   "outputs": [],
   "source": []
  },
  {
   "cell_type": "markdown",
   "id": "5d393980",
   "metadata": {},
   "source": [
    "## Model Evaluation\n",
    "\n",
    "### Objective\n",
    "\n",
    "Evaluate your model's performance using different metrics and visualization tools.\n",
    "\n",
    "### Guidance\n",
    "\n",
    "1. Use metrics like accuracy, precision, recall, and F1-score for evaluation.\n",
    "2. Plot confusion matrices and ROC curves to visualize your model's performance.\n",
    "\n",
    "### Exercise\n",
    "\n",
    "Evaluate your model and interpret the results. Write your code in the cell below.\n"
   ]
  },
  {
   "cell_type": "code",
   "execution_count": null,
   "id": "9b7cdaee",
   "metadata": {},
   "outputs": [],
   "source": [
    "\n",
    "# Your code here for Model Evaluation\n"
   ]
  },
  {
   "cell_type": "markdown",
   "id": "3749d240",
   "metadata": {},
   "source": [
    "## Model Deployment (Bonus)\n",
    "\n",
    "### Objective\n",
    "\n",
    "Learn the basics of deploying a machine learning model.\n",
    "\n",
    "### Guidance\n",
    "\n",
    "1. Save your trained model.\n",
    "2. Use Flask to create a simple REST API to serve your model.\n",
    "\n",
    "### Exercise\n",
    "\n",
    "Deploy your model using Flask. Write your code in the cell below.\n"
   ]
  },
  {
   "cell_type": "code",
   "execution_count": null,
   "id": "e23d3f7d",
   "metadata": {},
   "outputs": [],
   "source": [
    "\n",
    "# Your code here for Model Deployment (Bonus)\n"
   ]
  },
  {
   "cell_type": "markdown",
   "id": "8a5ec894",
   "metadata": {},
   "source": [
    "\n",
    "### Next Steps\n",
    "\n",
    "1. Experiment with more advanced architectures and hyperparameters.\n",
    "2. Deploy your model\n",
    "3. Integrate your model into a web application or other services.\n",
    "4. Learn more about MLOps best practices and tools.\n",
    "\n",
    "\n"
   ]
  }
 ],
 "metadata": {
  "kernelspec": {
   "display_name": "Python 3 (ipykernel)",
   "language": "python",
   "name": "python3"
  },
  "language_info": {
   "codemirror_mode": {
    "name": "ipython",
    "version": 3
   },
   "file_extension": ".py",
   "mimetype": "text/x-python",
   "name": "python",
   "nbconvert_exporter": "python",
   "pygments_lexer": "ipython3",
   "version": "3.9.12"
  }
 },
 "nbformat": 4,
 "nbformat_minor": 5
}
